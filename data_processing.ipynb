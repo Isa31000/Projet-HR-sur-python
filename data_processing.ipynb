{
 "cells": [
  {
   "cell_type": "code",
   "execution_count": 3,
   "metadata": {},
   "outputs": [],
   "source": [
    "import pandas as pd\n",
    "#récupération du df nettoyé\n",
    "data = pd.read_pickle(\"data_cleaned.pkl\")\n",
    "\n"
   ]
  },
  {
   "cell_type": "code",
   "execution_count": 5,
   "metadata": {},
   "outputs": [
    {
     "name": "stdout",
     "output_type": "stream",
     "text": [
      "<class 'pandas.core.frame.DataFrame'>\n",
      "RangeIndex: 311 entries, 0 to 310\n",
      "Data columns (total 22 columns):\n",
      " #   Column                      Non-Null Count  Dtype               \n",
      "---  ------                      --------------  -----               \n",
      " 0   EmpID                       311 non-null    int64               \n",
      " 1   GenderID                    311 non-null    int64               \n",
      " 2   PerfScoreID                 311 non-null    int64               \n",
      " 3   Salary                      311 non-null    int64               \n",
      " 4   PositionID                  311 non-null    int64               \n",
      " 5   Position                    311 non-null    object              \n",
      " 6   State                       311 non-null    object              \n",
      " 7   Zip                         311 non-null    int64               \n",
      " 8   DOB                         311 non-null    datetime64[ns]      \n",
      " 9   DateofHire                  311 non-null    date32[day][pyarrow]\n",
      " 10  DateofTermination           104 non-null    date32[day][pyarrow]\n",
      " 11  TermReason                  311 non-null    object              \n",
      " 12  EmploymentStatus            311 non-null    object              \n",
      " 13  Department                  311 non-null    object              \n",
      " 14  ManagerID                   311 non-null    float64             \n",
      " 15  RecruitmentSource           311 non-null    object              \n",
      " 16  EngagementSurvey            311 non-null    float64             \n",
      " 17  EmpSatisfaction             311 non-null    int64               \n",
      " 18  SpecialProjectsCount        311 non-null    int64               \n",
      " 19  LastPerformanceReview_Date  311 non-null    date32[day][pyarrow]\n",
      " 20  DaysLateLast30              311 non-null    int64               \n",
      " 21  Absences                    311 non-null    int64               \n",
      "dtypes: date32[day][pyarrow](3), datetime64[ns](1), float64(2), int64(10), object(6)\n",
      "memory usage: 50.0+ KB\n"
     ]
    }
   ],
   "source": [
    "data.info()"
   ]
  },
  {
   "cell_type": "markdown",
   "metadata": {},
   "source": [
    "**Projet 2 : Explorer et comprendre les performances des employés**  \n",
    "\n",
    "**Problématique métier:**  \n",
    "Une entreprise souhaite analyser la répartition des performances des employés pour comprendre les écarts et identifier les outliers.  \n",
    "  \n",
    "  \n",
    "**Objectif:**  \n",
    "Étudier les distributions des scores de performance et des heures travaillées pour détecter les facteurs d'amélioration.\n",
    "\n",
    "**Etapes:** \n",
    "1/Exploration du fichier et nettoyage des données.==>Fait   \n",
    "2/Statistiques descriptives : Moyenne, médiane, mode, quartiles, variance, écart-type.  \n",
    "3/Visualisation des distributions : Histogrammes, boxplots, pie chart, diagramme en barre.  \n",
    "4/Détection et analyse des outliers avec la règle des 1.5 * IQR."
   ]
  }
 ],
 "metadata": {
  "kernelspec": {
   "display_name": "Python 3",
   "language": "python",
   "name": "python3"
  },
  "language_info": {
   "codemirror_mode": {
    "name": "ipython",
    "version": 3
   },
   "file_extension": ".py",
   "mimetype": "text/x-python",
   "name": "python",
   "nbconvert_exporter": "python",
   "pygments_lexer": "ipython3",
   "version": "3.13.2"
  }
 },
 "nbformat": 4,
 "nbformat_minor": 2
}
